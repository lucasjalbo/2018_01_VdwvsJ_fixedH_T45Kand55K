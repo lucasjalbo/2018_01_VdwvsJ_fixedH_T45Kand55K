{
 "cells": [
  {
   "cell_type": "code",
   "execution_count": 1,
   "metadata": {
    "collapsed": true
   },
   "outputs": [],
   "source": [
    "import matplotlib.pyplot as plt\n",
    "from matplotlib import rcParams\n",
    "import numpy as np\n",
    "from scipy import interpolate\n",
    "\n",
    "plt.ion()\n",
    "plt.rc('text', usetex=True)\n",
    "plt.rc('font', family='serif', size = 15, weight='bold')"
   ]
  },
  {
   "cell_type": "markdown",
   "metadata": {},
   "source": [
    "# Analysis of the measurements made at 45 and 55 K for Vdw vs. J with fixed field H.\n",
    "\n",
    "Dates of the measurements: 12, 15 and 25 january."
   ]
  },
  {
   "cell_type": "markdown",
   "metadata": {},
   "source": [
    "I charge the data..."
   ]
  },
  {
   "cell_type": "code",
   "execution_count": 2,
   "metadata": {
    "collapsed": true
   },
   "outputs": [],
   "source": [
    "Vj_45K_H0, VdwL_45K_H0, err_VdwL_45K_H0, VdwR_45K_H0, err_VdwR_45K_H0, VdwJ_45K_H0, err_VdwJ_45K_H0 = np.loadtxt('./GaMnAs_T45K_VdwvsVj_H0.dat', unpack=True)\n",
    "Vj_45K_Vh100V, VdwJ_45K_Vh100V, err_VdwJ_45K_Vh100V, VdwH_45K_Vh100V, err_VdwH_45K_Vh100V = np.loadtxt('./GaMnAs_T45K_VdwJandVdwHvsVj_Vh100V.dat', unpack=True)\n",
    "Vj_55K_H0, VdwL_55K_H0, err_VdwL_55K_H0, VdwR_55K_H0, err_VdwR_55K_H0, VdwJ_55K_H0, err_VdwJ_55K_H0 = np.loadtxt('./GaMnAs_T55K_VdwvsVj_H0.dat', unpack=True)\n",
    "Vj_55K_Vh120V, VdwJ_55K_Vh120V, err_VdwJ_55K_Vh120V, VdwH_55K_Vh120V, err_VdwH_55K_Vh120V = np.loadtxt('./GaMnAs_T55K_VdwJandVdwHvsVj_Vh120V.dat', unpack=True)"
   ]
  },
  {
   "cell_type": "code",
   "execution_count": 3,
   "metadata": {
    "collapsed": true
   },
   "outputs": [],
   "source": [
    "VdwH_45K_Vh100V_J0, err_VdwH_45K_Vh100V_J0 = 0.752976098901, 0.0295276791814"
   ]
  },
  {
   "cell_type": "code",
   "execution_count": null,
   "metadata": {
    "collapsed": true
   },
   "outputs": [],
   "source": []
  }
 ],
 "metadata": {
  "kernelspec": {
   "display_name": "Python 3",
   "language": "python",
   "name": "python3"
  },
  "language_info": {
   "codemirror_mode": {
    "name": "ipython",
    "version": 3
   },
   "file_extension": ".py",
   "mimetype": "text/x-python",
   "name": "python",
   "nbconvert_exporter": "python",
   "pygments_lexer": "ipython3",
   "version": "3.6.1"
  }
 },
 "nbformat": 4,
 "nbformat_minor": 2
}
